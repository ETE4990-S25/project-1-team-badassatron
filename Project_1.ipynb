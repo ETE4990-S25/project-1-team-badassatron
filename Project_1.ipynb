{
 "cells": [
  {
   "cell_type": "markdown",
   "metadata": {},
   "source": [
    "    An Important note. The files found in the sample folder are of students work from last year. These files are to give you a sense of a single persons work on Project 1. It is important to note that this was a single person project and not a group project like we are doing. \n",
    "\n",
    "    Again the code supplied is for you to get an idea of code and help you along your path.\n",
    "    "
   ]
  },
  {
   "cell_type": "markdown",
   "metadata": {},
   "source": [
    "# Project 1"
   ]
  },
  {
   "cell_type": "markdown",
   "metadata": {},
   "source": [
    "\n",
    "## Your task is to develop **with a partner** a text-based video game \n",
    "\n",
    "## This should take you 3 weeks to complete  \n",
    "I expect code to be around 300 - 400 lines of code. \n",
    "\n",
    "As a team you create a game. Focus on the player profile, inventory system, combat mechanics. \n",
    "Independently work on your parts of code and then work together to make the program flow correctly. \n",
    "I recommend writing all your Independent code in .py files and use .ipynb file to make all the connections and run your game. \n",
    "\n",
    "Incorporate all the concepts we've covered so far, including files (read and write), JSON, operators, lists, (optional) tuples, functions, modules, and classes.\n",
    "\n",
    "\n",
    "Enjoy the process!\n",
    "\n",
    "### Requirements:\n",
    "  note: you may mix and match what each person does in the project \n",
    "- **Player Type Selection**: Allow players to choose their character type. Set attributes based on the choice (e.g., wizard: magic = 10, knight: magic = 0) hint: this should be done in the classes.\n",
    "\n",
    "- **Inventory Management**: Create functions to add and remove items from the inventory. Some examples are: \n",
    "  - items that stack (I.e. crafting items)\n",
    "  - single use items (I.e. a rope)\n",
    "  -  multi use items (I.e. Weapons )\n",
    "\n",
    "- **Inventory Display**: Implement a function to show the player's inventory.\n",
    "\n",
    "- **Item Details**: Each item in your game should have a class. These classes will be used to by the Inventory Management. you may use the attached items json file to perform your work but it is lacking data so you may need to edit it or find your own on kaggel or you may use chat GPT to create it.\n",
    "  - example: \"name\": \"Silver Arrow\",\"category\": \"Ammunition\", \"upStats{\"Magic\":1}\n",
    "  ``` python\n",
    "  class Ammunition (Wepons):\n",
    "    self.stacks = True\n",
    "    #your code here\n",
    "    ```\n",
    "\n",
    "\n",
    "- **Persistence**: Ensure the game can save and reload the player's character using files.\n",
    "\n",
    "- **Clean Code**: I expect your code to be clean, well documented with docstrings comments, good formatting, easy to read etc. Consider this for both running the code and reading the code. \n",
    "\n",
    "- **GitHub**: I will be looking at Github for your project files to see how you and your partner co code together. I will look at things like number of commits, contributions, differences between commits, and code frequency. \n",
    "  - I do not expect work daily but I do expect there to be work done often. \n",
    "\n",
    "A word of advice. If you plan to run your code in VS code it would be helpful to output the users input. If not it will be lost. \n",
    "\n",
    "### Game Features:\n",
    "- **Player Profile**: Include player stats.\n",
    "- **Inventory System**: Implement a bag to hold items.\n",
    "- **Items**: Include items, descriptions, categories, DPS and trait (e.g., +5 magic).\n",
    "- **Concepts**: Utilize functions/modules, loops, arrays, classes, inheritance, encapsulation, files, json.\n",
    "- **Player Type Selection**: Allow players to choose their character type and set attributes accordingly (e.g., wizard: magic = 10, knight: magic = 0).\n",
    "- **Inventory Display**: Implement a function to show the player's inventory.\n",
    "- **Code Quality**: Keep your code clean and consider various player needs, as this project will be handed off to a partner for further development.\n",
    "- **GitHub**: Work together and show me your are not cramming at the last min. \n",
    "\n"
   ]
  },
  {
   "cell_type": "markdown",
   "metadata": {},
   "source": []
  }
 ],
 "metadata": {
  "language_info": {
   "name": "python"
  }
 },
 "nbformat": 4,
 "nbformat_minor": 2
}
