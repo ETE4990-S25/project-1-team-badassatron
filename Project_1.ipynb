{
 "cells": [
  {
   "cell_type": "markdown",
   "metadata": {},
   "source": [
    "    An Important note. The files found in the sample folder are of students work from last year. These files are to give you a sense of a single persons work on Project 1. It is important to note that this was a single person project and not a group project like we are doing. \n",
    "\n",
    "    Again the code supplied is for you to get an idea of code and help you along your path.\n",
    "    "
   ]
  },
  {
   "cell_type": "markdown",
   "metadata": {},
   "source": [
    "# Project 1"
   ]
  },
  {
   "cell_type": "markdown",
   "metadata": {},
   "source": [
    "\n",
    "## Your task is to develop **with a partner** a text-based video game \n",
    "\n",
    "## This should take you 3 weeks to complete  \n",
    "I expect code to be around 300 - 400 lines of code. \n",
    "\n",
    "As a team you create a game. Focus on the player profile, inventory system, combat mechanics. \n",
    "Independently work on your parts of code and then work together to make the program flow correctly. \n",
    "I recommend writing all your Independent code in .py files and use .ipynb file to make all the connections and run your game. \n",
    "\n",
    "Incorporate all the concepts we've covered so far, including files (read and write), JSON, operators, lists, (optional) tuples, functions, modules, and classes.\n",
    "\n",
    "\n",
    "Enjoy the process!\n",
    "\n",
    "### Requirements:\n",
    "  note: you may mix and match what each person does in the project \n",
    "- **Player Type Selection**: Allow players to choose their character type. Set attributes based on the choice (e.g., wizard: magic = 10, knight: magic = 0) hint: this should be done in the classes.\n",
    "\n",
    "- **Inventory Management**: Create functions to add and remove items from the inventory. Some examples are: \n",
    "  - items that stack (I.e. crafting items)\n",
    "  - single use items (I.e. a rope)\n",
    "  -  multi use items (I.e. Weapons )\n",
    "\n",
    "- **Inventory Display**: Implement a function to show the player's inventory.\n",
    "\n",
    "- **Item Details**: Each item in your game should have a class. These classes will be used to by the Inventory Management. you may use the attached items json file to perform your work but it is lacking data so you may need to edit it or find your own on kaggel or you may use chat GPT to create it.\n",
    "  - example: \"name\": \"Silver Arrow\",\"category\": \"Ammunition\", \"upStats{\"Magic\":1}\n",
    "  ``` python\n",
    "  class Ammunition (Wepons):\n",
    "    self.stacks = True\n",
    "    #your code here\n",
    "    ```\n",
    "\n",
    "\n",
    "- **Persistence**: Ensure the game can save and reload the player's character using files.\n",
    "\n",
    "- **Clean Code**: I expect your code to be clean, well documented with docstrings comments, good formatting, easy to read etc. Consider this for both running the code and reading the code. \n",
    "\n",
    "- **GitHub**: I will be looking at Github for your project files to see how you and your partner co code together. I will look at things like number of commits, contributions, differences between commits, and code frequency. \n",
    "  - I do not expect work daily but I do expect there to be work done often. \n",
    "\n",
    "A word of advice. If you plan to run your code in VS code it would be helpful to output the users input. If not it will be lost. \n",
    "\n",
    "### Game Features:\n",
    "- **Player Profile**: Include player stats.\n",
    "- **Inventory System**: Implement a bag to hold items.\n",
    "- **Items**: Include items, descriptions, categories, DPS and trait (e.g., +5 magic).\n",
    "- **Concepts**: Utilize functions/modules, loops, arrays, classes, inheritance, encapsulation, files, json.\n",
    "- **Player Type Selection**: Allow players to choose their character type and set attributes accordingly (e.g., wizard: magic = 10, knight: magic = 0).\n",
    "- **Inventory Display**: Implement a function to show the player's inventory.\n",
    "- **Code Quality**: Keep your code clean and consider various player needs, as this project will be handed off to a partner for further development.\n",
    "- **GitHub**: Work together and show me your are not cramming at the last min. \n",
    "\n"
   ]
  },
  {
   "cell_type": "markdown",
   "metadata": {},
   "source": [
    "TESTER JUPYTER NOTEBOOK"
   ]
  },
  {
   "cell_type": "code",
   "execution_count": null,
   "metadata": {},
   "outputs": [
    {
     "name": "stdout",
     "output_type": "stream",
     "text": [
      "-----Savior of Cybertron----\n",
      "Hello citizen, Crybertron needs your help. \n",
      "We are sending you on a mission to discover the who has been messing with the core of our home\n",
      "The instructions are simple, choose as you see fit, and see where destiny sends you.\n",
      "During interactions, you will take turns attacking until one is victorious.\n",
      "\n",
      "\n",
      "Young {player_name}, Minerbot69420, your producton of energon has been lacking and Sentinel Prime is counting on you.\n",
      " \n",
      "As a miner you\n",
      "   - work 14 hour work days\n",
      "   - cannot transform \n",
      " \n",
      "Sentinel Prime just announced a higher quota for this week, like a cog in a machine am I right? \n",
      "You are approached by a fellow miner about a rumor. Fellow miner, Orion Pax, has decided to revolt!\n",
      "Please {player_name}, choose the path you wish to take...\n",
      "   1. Revolt with Orion Pax and choose your destiny\n",
      "   2. Continue to work in the mines.\n",
      "yay\n"
     ]
    }
   ],
   "source": [
    "#beginning menu success\n",
    "def mainmenu():\n",
    "    print('-----Savior of Cybertron----')\n",
    "    print('Hello citizen, Crybertron needs your help. ')\n",
    "    print('We are sending you on a mission to discover the who has been messing with the core of our home')\n",
    "    print('The instructions are simple, choose as you see fit, and see where destiny sends you.')\n",
    "    print('During interactions, you will take turns attacking until one is victorious.')\n",
    "    print('')\n",
    "    player_name = input('First, please tell us who you are: ')\n",
    "    print('')\n",
    "    Prelude()\n",
    "\n",
    "#Phase 1: Prelude\n",
    "#You are miner, given freedom(context), chose your path\n",
    "def Prelude():\n",
    "    print('Young {player_name}, Minerbot69420, your producton of energon has been lacking and Sentinel Prime is counting on you.')\n",
    "    print(' ')\n",
    "    print('As a miner you')\n",
    "    print(\"   - work 14 hour work days\")\n",
    "    print('   - cannot transform ')\n",
    "    print(' ')\n",
    "    print(\"Sentinel Prime just announced a higher quota for this week, like a cog in a machine am I right? \")\n",
    "    print('You are approached by a fellow miner about a rumor. Fellow miner, Orion Pax, has decided to revolt!')\n",
    "    print('Please {player_name}, choose the path you wish to take...')\n",
    "    print('   1. Revolt with Orion Pax and choose your destiny')\n",
    "    print('   2. Continue to work in the mines.')\n",
    "    option = input()\n",
    "    if option == '1':\n",
    "        print('yay')\n",
    "    else:\n",
    "        print('boo')\n",
    "\n",
    "if __name__== '__main__': #so the program will run, dont delete\n",
    "    mainmenu()"
   ]
  }
 ],
 "metadata": {
  "kernelspec": {
   "display_name": "base",
   "language": "python",
   "name": "python3"
  },
  "language_info": {
   "codemirror_mode": {
    "name": "ipython",
    "version": 3
   },
   "file_extension": ".py",
   "mimetype": "text/x-python",
   "name": "python",
   "nbconvert_exporter": "python",
   "pygments_lexer": "ipython3",
   "version": "3.12.7"
  }
 },
 "nbformat": 4,
 "nbformat_minor": 2
}
